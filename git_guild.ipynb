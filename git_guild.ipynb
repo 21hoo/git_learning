{
 "cells": [
  {
   "attachments": {},
   "cell_type": "markdown",
   "metadata": {},
   "source": [
    "# 准备工作\n",
    "1. 下载git的安装包，并选择vscode为对应的默认编辑器\n",
    "2. 简单配置全局用户名以及邮箱  \n",
    "`git config --global user.name <Username>`  \n",
    "`git config -- global user.email <Email> `"
   ]
  },
  {
   "attachments": {},
   "cell_type": "markdown",
   "metadata": {},
   "source": [
    "# 正式创建仓库\n",
    "## 初始化仓库\n",
    "1. 创建相应文件夹，并进入文件夹目录中\n",
    "2. 使用git初始化指令`git init`将当前文件夹初始化为git可以管理的仓库\n",
    "\n",
    "## 创建任意文件并将其添加到仓库（此处以README.md文件为例）\n",
    "1. 使用`git add README.md`将文件添加到git仓库中\n",
    "    "
   ]
  },
  {
   "cell_type": "markdown",
   "metadata": {},
   "source": []
  }
 ],
 "metadata": {
  "language_info": {
   "name": "python"
  },
  "orig_nbformat": 4
 },
 "nbformat": 4,
 "nbformat_minor": 2
}
