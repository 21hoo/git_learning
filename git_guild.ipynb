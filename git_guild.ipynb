{
 "cells": [
  {
   "attachments": {},
   "cell_type": "markdown",
   "metadata": {},
   "source": [
    "# 准备工作\n",
    "1. 下载git的安装包，并选择vscode为对应的默认编辑器\n",
    "2. 简单配置全局用户名以及邮箱  \n",
    "`git config --global user.name <Username>`  \n",
    "`git config -- global user.email <Email> `"
   ]
  },
  {
   "attachments": {},
   "cell_type": "markdown",
   "metadata": {},
   "source": [
    "# 正式创建仓库\n",
    "## 初始化仓库\n",
    "1. 创建相应文件夹，并进入文件夹目录中\n",
    "2. 使用git初始化指令`git init`将当前文件夹初始化为git可以管理的仓库\n",
    "\n",
    "## 创建任意文件并将其添加到仓库（此处以git_guild.ipynb文件为例）\n",
    "1. 使用`git add git_guild.ipynb`将文件添加到git仓库中，只是存在于暂存区，需要等待下一步正式提交。\n",
    "    - 没有任何提示就是最好的提示，说明已经成功了\n",
    "2. 使用`git commit -m \"add a jupyternotebook file\"`来讲文件正式提交到仓库\n",
    "    - 收到类似提示则说明提交成功：  \n",
    "    `[master (root-commit) 4499eb0] add a jupyternotebook file  \n",
    "        2 files changed, 46 insertions(+)  \n",
    "        create mode 100644 README.txt  \n",
    "        create mode 100644 git_guild.ipynb`   \n",
    "## 对修改操作的撤销\n",
    "命令`git checkout readme.txt`意思就是，把readme.txt文件在工作区的修改全部撤销，这里有两种情况：\n",
    "\n",
    "1. 一种是readme.txt自修改后*还没有被放到暂存区*，即还没有使用`git add`,那么将退回到版本库中的版本。\n",
    "\n",
    "2. 一种是readme.txt*已经添加到暂存区*后，即已经使用`git add`，那么则将暂存区中的内容回退给你。\n",
    "\n",
    "总之，就是让这个文件回到最近一次git commit或git add时的状态。 "
   ]
  },
  {
   "attachments": {},
   "cell_type": "markdown",
   "metadata": {},
   "source": [
    "# git仓库当前状态的查看\n",
    "## 查看当前git仓库的修改状态\n",
    "使用`git status` 查看当前仓库的修改状态，是否有文件修改，并且查看当前修改是否添加到暂存区\n",
    "- 实际操作给出如下信息：  \n",
    "`On branch master  \n",
    "  Changes not staged for commit:  \n",
    "  (use \"git add <file>...\" to update what will be committed)  \n",
    "  (use \"git restore <file>...\" to discard changes in working directory)  \n",
    "        modified:   README.txt  \n",
    "no changes added to commit (use \"git add\" and/or \"git commit -a\")`  \n",
    "    - 可知，在master分支下有改动没有添加到暂存区，被修改的文件是README.txt文件\n",
    "## 查看具体文件的修改内容\n",
    "使用`git diff xxxx`命令可以查看当前文件和已经正式提交到git仓库中的文件的差异，具体增加了几行和或者删除了几行，或者修改了什么内容。"
   ]
  },
  {
   "attachments": {},
   "cell_type": "markdown",
   "metadata": {},
   "source": [
    "# 对仓库版本的控制\n",
    "HEAD指向的版本就是当前版本，HEAD指向当前的版本库，当前版本库之前的版本会在log中保存，移动HEAD后，对于HEAD之前的版本则会从log中被移除。我们可以使用HEAD来控制当前仓库的版本信息，做到回退和前进。  \n",
    "使用`git log`指令可以得到当前的提交版本的日志信息，包含如下内容：  \n",
    "    1. 每次提交的hash值，用于代表唯一指代该次操作，进行版本的控制需要使用到这些hash\n",
    "    2. 每次提交的作者的信息以及邮箱\n",
    "    3. 每次提交的日期\n",
    "    4. 每次提交的修改内容  \n",
    "如果需要简短信息，则可以使用`git log --pretty=oneline`加上后面的参数，可以使log信息浓缩成一行，包含hash值，当前版本库，以及修改内容\n",
    "\n",
    "## 回退过去仓库中的版本，并将工作区切换到旧版本仓库内容\n",
    "通过log信息得到每次操作所对应的hash值以后，使用`git reset --hard commit_id`其中commit_id就是hash值，不需要全部输入，输入几位即可，git会自动匹配。\n",
    "\n",
    "## 对于回退之前的版本后悔，选择找回已经被覆盖的版本\n",
    "由于修改head指针指向的版本库之后，head之前的log会消失，所以需要使用`git reflog`来显示之前操作的hash值，从而得到已经消失的版本的hash值，如果需要修改会该版本，则同样使用`git reset --hard commit_id`则可回退到该版本"
   ]
  },
  {
   "attachments": {},
   "cell_type": "markdown",
   "metadata": {},
   "source": [
    "# 远程连接gitgub库\n",
    "## 推送本地库到github中托管\n",
    "1. 使用如下命令`git remore add origin github仓库的ssh链接`即可将本地仓库链接到github中的仓库\n",
    "    - 其中origin是远程库的名字，即你给推送到github的仓库取的名字，可以是别的但是约定俗成为origin\n",
    "2. 使用`git push -u origin 分支名`\n",
    "    1. 其中 -u是合并分支内容\n",
    "    2. 推送的分支要与远程仓库所拥有的分支相同，如果远程仓库没有该分支，则会创建该分支，如果本地分支名字与远程仓库名字不同则会报错\n",
    "## 从github中拉取信息\n",
    "1. 找到相对应的git仓库，选择http链接，在本地使用git命令行即运行代码`git clone xxxxx(git仓库链接)`即可成功克隆仓库\n",
    "2. 推送修改到远程仓库同理，有如下操作：\n",
    "    1. `git add XXX`\n",
    "    2. `git commit -m \"modify message\"`\n",
    "    2. `git push branch_name`\n"
   ]
  },
  {
   "attachments": {},
   "cell_type": "markdown",
   "metadata": {},
   "source": [
    "# 分支管理\n",
    "git中head默认指向main分支，即默认指向主分支，当我们创建新的分支时，由于新创建的分支相当于一个新的工作空间，head指针指向的是当前的工作区间，故head会指向新创建的分支。  \n",
    "由于仓库的维护以及安全性考虑，不同的工作过程应当在不同的分支上完成，例如main应当是存放正式文件的，对于实验文件可以创建一个dev分区来进行实验，如果出现问题则方便从main分支拉取之前的正式版本的代码进行修改，不会因为自己的当操作而影响正式稳定的代码文件，从而保证了仓库的安全性。\n",
    "## 分支的创建\n",
    "分支的创建相当于创建一个新的工作空间来进行代码的实现，创建的新的工作区间的内容是同仓库中的内容相同的。之后的代码的修改则是在该工作区间的修改，在切换回原分支之后，修改不会同步到原分支，如需同步，则需要通过分支的合并来实现。  \n",
    "分支的创建可以使用`git branch <name>`来创建你想要的分支\n",
    "## 分支的切换\n",
    "分支的切换可以使用`git checkout -b <branch_name>`来切换或者使用新的git指令`git switch -c <branch_name>`\n",
    "## 分支的合并与删除\n",
    "分支的合并可以使用`git merge <branch_name>`  \n",
    "分支的删除可以使用`git branch -d <branch_name>`  "
   ]
  }
 ],
 "metadata": {
  "kernelspec": {
   "display_name": "base",
   "language": "python",
   "name": "python3"
  },
  "language_info": {
   "name": "python",
   "version": "3.9.1"
  },
  "orig_nbformat": 4,
  "vscode": {
   "interpreter": {
    "hash": "b36fbb62300cb829d1bafcdac8993562d270a20c0ec4af6d196a5064f30634b8"
   }
  }
 },
 "nbformat": 4,
 "nbformat_minor": 2
}
